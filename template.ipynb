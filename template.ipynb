{
 "cells": [
  {
   "cell_type": "code",
   "execution_count": 1,
   "metadata": {
    "collapsed": false
   },
   "outputs": [],
   "source": [
    "import pandas as pd\n",
    "import sklearn.base as base\n",
    "from sklearn.pipeline import Pipeline\n",
    "from sklearn.grid_search import GridSearchCV\n",
    "# Models\n",
    "from sklearn.linear_model import LinearRegression\n",
    "from sklearn.feature_extraction import DictVectorizer\n",
    "from sklearn.pipeline import FeatureUnion\n",
    "from sklearn import svm\n",
    "from sklearn.decomposition import PCA\n",
    "import dill"
   ]
  },
  {
   "cell_type": "markdown",
   "metadata": {},
   "source": [
    "## Import all custom transformer and estimator methods"
   ]
  },
  {
   "cell_type": "code",
   "execution_count": 2,
   "metadata": {
    "collapsed": true
   },
   "outputs": [],
   "source": [
    "from transformers import *\n",
    "from estimators import *"
   ]
  },
  {
   "cell_type": "markdown",
   "metadata": {},
   "source": [
    "### Load the Data Set"
   ]
  },
  {
   "cell_type": "code",
   "execution_count": 4,
   "metadata": {
    "collapsed": false
   },
   "outputs": [],
   "source": [
    "train = pd.read_csv('data/train.txt')\n",
    "test = pd.read_csv('data/test.txt')"
   ]
  },
  {
   "cell_type": "markdown",
   "metadata": {},
   "source": [
    "#### Find the columns which are not numeric"
   ]
  },
  {
   "cell_type": "code",
   "execution_count": 5,
   "metadata": {
    "collapsed": false
   },
   "outputs": [
    {
     "name": "stdout",
     "output_type": "stream",
     "text": [
      "62 object\n",
      "122 object\n",
      "216 object\n",
      "238 object\n"
     ]
    }
   ],
   "source": [
    "for index, i in enumerate(train.dtypes):\n",
    "    if i == object:\n",
    "        print index, i"
   ]
  },
  {
   "cell_type": "markdown",
   "metadata": {},
   "source": [
    "### A Model using linear regression"
   ]
  },
  {
   "cell_type": "code",
   "execution_count": 17,
   "metadata": {
    "collapsed": false,
    "scrolled": false
   },
   "outputs": [
    {
     "name": "stdout",
     "output_type": "stream",
     "text": [
      "the score for this model is\n"
     ]
    },
    {
     "data": {
      "text/plain": [
       "0.60390226607745601"
      ]
     },
     "execution_count": 17,
     "metadata": {},
     "output_type": "execute_result"
    }
   ],
   "source": [
    "y_train = train.values[:,0]\n",
    "y = y_train\n",
    "M = train\n",
    "\n",
    "#Create a pipeline to run linear regression on the data set\n",
    "combined_features  =   FeatureUnion([\n",
    "                                 ('reg_num', Pipeline([   ('cm', ColumnRemoveTransformer(remove_cols=[0, 62, 122, 216, 238])),\n",
    "                                                        ('neigh',  ModelTransformer(LinearRegression()))\n",
    "                                                    ])),\n",
    "                                  ('reg_str', Pipeline([   ('cm', ColumnSelectTransformer(select_cols=[62, 122, 216, 238])),\n",
    "                                                    ('dm',  DictMassagerTransformer()),\n",
    "                                                    ('dv',  DictVectorizer()),\n",
    "                                                    ('neigh',  ModelTransformer(LinearRegression()))\n",
    "                                                     ]))\n",
    "                                 ])\n",
    "\n",
    "features = combined_features.fit(M, y)\n",
    "pipeline = Pipeline([(\"concat\", ConcantTransformer(num=2)),\n",
    "                     (\"ln\", LinearRegression())])\n",
    "full_model = pipeline.fit(features.transform(M),y)\n",
    "\n",
    "print 'the score for this model is'\n",
    "full_model.score(features.transform(M), y)"
   ]
  },
  {
   "cell_type": "markdown",
   "metadata": {},
   "source": [
    "### A Model using support vector machines"
   ]
  },
  {
   "cell_type": "code",
   "execution_count": 6,
   "metadata": {
    "collapsed": false
   },
   "outputs": [
    {
     "name": "stdout",
     "output_type": "stream",
     "text": [
      "the score for this model is\n"
     ]
    },
    {
     "data": {
      "text/plain": [
       "0.68862520360204083"
      ]
     },
     "execution_count": 6,
     "metadata": {},
     "output_type": "execute_result"
    }
   ],
   "source": [
    "y_train = train.values[:,0]\n",
    "y = y_train\n",
    "M = train\n",
    "\n",
    "combined_features  =   FeatureUnion([\n",
    "     ('reg_num', Pipeline([   ('cm', ColumnRemoveTransformer(remove_cols=[0, 62, 122, 216, 238])),\n",
    "                            ('neigh',  ModelTransformer(svm.SVR()))\n",
    "                        ])),\n",
    "     ('reg_str', Pipeline([   ('cm', ColumnSelectTransformer(select_cols=[62, 122, 216, 238])),\n",
    "                         ('dm',  DictMassagerTransformer()),\n",
    "                         ('dv',  DictVectorizer()),\n",
    "                         ('neigh',  ModelTransformer(svm.SVR()))\n",
    "                         ]))\n",
    "                                 ])\n",
    "            \n",
    "features = combined_features.fit(M, y)\n",
    "pipeline = Pipeline([(\"concat\", ConcantTransformer(num=2)),\n",
    "                     (\"ln\", LinearRegression())])\n",
    "full_model = pipeline.fit(features.transform(M),y)\n",
    "\n",
    "print 'the score for this model is'\n",
    "full_model.score(features.transform(M), y)"
   ]
  },
  {
   "cell_type": "markdown",
   "metadata": {},
   "source": [
    "### Make Prediction on Test Set and write out the results"
   ]
  },
  {
   "cell_type": "code",
   "execution_count": 10,
   "metadata": {
    "collapsed": false
   },
   "outputs": [],
   "source": [
    "#full_model = pipeline.transform(features.transform(test))\n",
    "dill.dump(full_model, open('lib/svm_model.dll','w'))\n",
    "p = full_model.predict(features.transform(test))\n",
    "with open('part1_prediction.dat','w') as out:\n",
    "    for i in p:\n",
    "        out.write('{}\\n'.format(i))"
   ]
  },
  {
   "cell_type": "markdown",
   "metadata": {},
   "source": [
    "###USING GRID CV TO TRAIN DIFFERENT PIPELINES"
   ]
  },
  {
   "cell_type": "code",
   "execution_count": null,
   "metadata": {
    "collapsed": false
   },
   "outputs": [],
   "source": [
    "pipeline =  Pipeline([   ('cm', ColumnRemoveTransformer(remove_cols=[0, 62, 122, 216, 238])),\n",
    "                            ('reg',  svm.SVR(kernel='linear'))\n",
    "                        ])\n",
    "\n",
    "grid_search = GridSearchCV(pipeline,  param_grid=parameters, cv= 3)\n",
    "grid_search.fit(M,y)\n",
    "\n",
    "print grid_search.score(M, y)\n",
    "print grid_search.best_params_"
   ]
  },
  {
   "cell_type": "code",
   "execution_count": 65,
   "metadata": {
    "collapsed": false,
    "scrolled": true
   },
   "outputs": [
    {
     "name": "stdout",
     "output_type": "stream",
     "text": [
      "0.0949670203631\n",
      "{'reg__C': 1}\n"
     ]
    }
   ],
   "source": [
    "pipeline =  Pipeline([   ('cm', ColumnSelectTransformer(select_cols=[62, 122, 216, 238])),\n",
    "                         ('dm',  DictMassagerTransformer()),\n",
    "                         ('dv',  DictVectorizer()),\n",
    "                         ('reg',  svm.SVR())\n",
    "                         ])\n",
    "\n",
    "#parameters = {'reg__kernel':['rbf','linear','poly']} #linear is best\n",
    "parameters = {'reg__C':[1,1e3,1e5]}\n",
    "grid_search = GridSearchCV(pipeline,  param_grid=parameters, cv= 3)\n",
    "grid_search.fit(M,y)\n",
    "\n",
    "print grid_search.score(M, y)\n",
    "print grid_search.best_params_"
   ]
  },
  {
   "cell_type": "code",
   "execution_count": 9,
   "metadata": {
    "collapsed": false
   },
   "outputs": [
    {
     "name": "stdout",
     "output_type": "stream",
     "text": [
      "0.539898389211\n",
      "{'pca__n_components': 200}\n"
     ]
    }
   ],
   "source": [
    "pipeline =  Pipeline([   ('cm', ColumnRemoveTransformer(remove_cols=[0, 62, 122, 216, 238])),\n",
    "                         ('pca', PCA()),      \n",
    "                         ('reg',  svm.SVR())\n",
    "                        ])\n",
    "parameters = {'pca__n_components':[10, 50,100,200]} #linear is best\n",
    "grid_search = GridSearchCV(pipeline,  param_grid=parameters, cv= 3)\n",
    "grid_search.fit(M,y)\n",
    "\n",
    "print grid_search.score(M, y)\n",
    "print grid_search.best_params_"
   ]
  },
  {
   "cell_type": "markdown",
   "metadata": {},
   "source": [
    "### See if PCA is helpful"
   ]
  },
  {
   "cell_type": "code",
   "execution_count": 19,
   "metadata": {
    "collapsed": false
   },
   "outputs": [
    {
     "name": "stdout",
     "output_type": "stream",
     "text": [
      "0.542064655406\n",
      "{'pca__n_components': 125}\n"
     ]
    }
   ],
   "source": [
    "pipeline =  Pipeline([   ('cm', ColumnRemoveTransformer(remove_cols=[0, 62, 122, 216, 238])),\n",
    "                         ('pca', PCA()),\n",
    "                         ('reg',  svm.SVR())\n",
    "                        ])\n",
    "parameters = {'pca__n_components':[10,25,100,125,150,200]} #linear is best\n",
    "grid_search = GridSearchCV(pipeline,  param_grid=parameters, cv= 3)\n",
    "grid_search.fit(M,y)\n",
    "\n",
    "print grid_search.score(M, y)\n",
    "print grid_search.best_params_"
   ]
  },
  {
   "cell_type": "code",
   "execution_count": 11,
   "metadata": {
    "collapsed": false
   },
   "outputs": [
    {
     "name": "stdout",
     "output_type": "stream",
     "text": [
      "0.54604973821\n",
      "{}\n"
     ]
    }
   ],
   "source": [
    "pipeline =  Pipeline([   ('cm', ColumnRemoveTransformer(remove_cols=[0, 62, 122, 216, 238])),   \n",
    "                         ('reg',  svm.SVR())\n",
    "                        ])\n",
    "#parameters = {'pca__n_components':[10, 50,100,150]} #linear is best\n",
    "grid_search = GridSearchCV(pipeline,  param_grid={}, cv= 3)\n",
    "grid_search.fit(M,y)\n",
    "\n",
    "print grid_search.score(M, y)\n",
    "print grid_search.best_params_"
   ]
  }
 ],
 "metadata": {
  "kernelspec": {
   "display_name": "Python 2",
   "language": "python",
   "name": "python2"
  },
  "language_info": {
   "codemirror_mode": {
    "name": "ipython",
    "version": 2
   },
   "file_extension": ".py",
   "mimetype": "text/x-python",
   "name": "python",
   "nbconvert_exporter": "python",
   "pygments_lexer": "ipython2",
   "version": "2.7.6"
  }
 },
 "nbformat": 4,
 "nbformat_minor": 0
}
